{
  "nbformat": 4,
  "nbformat_minor": 0,
  "metadata": {
    "colab": {
      "provenance": []
    },
    "kernelspec": {
      "name": "python3",
      "display_name": "Python 3"
    },
    "language_info": {
      "name": "python"
    }
  },
  "cells": [
    {
      "cell_type": "code",
      "execution_count": 7,
      "metadata": {
        "colab": {
          "base_uri": "https://localhost:8080/"
        },
        "id": "y95M8OMfGwYp",
        "outputId": "d8a12c46-f770-444d-96ce-342480cc034b"
      },
      "outputs": [
        {
          "output_type": "stream",
          "name": "stdout",
          "text": [
            "Confusion Matrix:\n",
            "[[ 11   4   3   2   2]\n",
            " [  1  42   1   1   4]\n",
            " [  1   2  74   4   4]\n",
            " [  0   2   2  77   5]\n",
            " [  0   1   0   3 233]]\n",
            "\n",
            "Classification Report:\n",
            "              precision    recall  f1-score   support\n",
            "\n",
            "         0.0       0.85      0.50      0.63        22\n",
            "         1.0       0.82      0.86      0.84        49\n",
            "         2.0       0.93      0.87      0.90        85\n",
            "         3.0       0.89      0.90      0.89        86\n",
            "         4.0       0.94      0.98      0.96       237\n",
            "\n",
            "    accuracy                           0.91       479\n",
            "   macro avg       0.88      0.82      0.84       479\n",
            "weighted avg       0.91      0.91      0.91       479\n",
            "\n",
            "\n",
            "Predicted GradeClass for example student: 2.0\n"
          ]
        },
        {
          "output_type": "stream",
          "name": "stderr",
          "text": [
            "/usr/local/lib/python3.11/dist-packages/sklearn/utils/validation.py:2739: UserWarning: X does not have valid feature names, but StandardScaler was fitted with feature names\n",
            "  warnings.warn(\n"
          ]
        }
      ],
      "source": [
        "import pandas as pd\n",
        "import numpy as np\n",
        "from sklearn.model_selection import train_test_split\n",
        "from sklearn.ensemble import RandomForestClassifier\n",
        "from sklearn.metrics import classification_report, confusion_matrix\n",
        "from sklearn.preprocessing import StandardScaler\n",
        "\n",
        "# Load dataset\n",
        "file_path =\"/8. Student Performance Prediction.csv\"  # Absolute path\n",
        "df = pd.read_csv(file_path)\n",
        "\n",
        "# Drop non-useful columns\n",
        "if 'StudentID' in df.columns:\n",
        "    df = df.drop(['StudentID'], axis=1)\n",
        "\n",
        "# Features and target\n",
        "X = df.drop(\"GradeClass\", axis=1)\n",
        "y = df[\"GradeClass\"]\n",
        "\n",
        "# Scale numerical features\n",
        "scaler = StandardScaler()\n",
        "X_scaled = scaler.fit_transform(X)\n",
        "\n",
        "# Train-test split\n",
        "X_train, X_test, y_train, y_test = train_test_split(X_scaled, y, test_size=0.2, random_state=42)\n",
        "\n",
        "# Train Random Forest model\n",
        "model = RandomForestClassifier(n_estimators=100, random_state=42)\n",
        "model.fit(X_train, y_train)\n",
        "\n",
        "# Predictions\n",
        "y_pred = model.predict(X_test)\n",
        "\n",
        "# Evaluation\n",
        "print(\"Confusion Matrix:\")\n",
        "print(confusion_matrix(y_test, y_pred))\n",
        "print(\"\\nClassification Report:\")\n",
        "print(classification_report(y_test, y_pred))\n",
        "\n",
        "# Example prediction\n",
        "example_student = np.array([[17, 1, 0, 2, 15, 5, 1, 2, 0, 0, 1, 0, 3.0]])\n",
        "example_scaled = scaler.transform(example_student)\n",
        "predicted_class = model.predict(example_scaled)\n",
        "print(f\"\\nPredicted GradeClass for example student: {predicted_class[0]}\")\n"
      ]
    }
  ]
}